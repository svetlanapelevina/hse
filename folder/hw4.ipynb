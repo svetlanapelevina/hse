{
 "cells": [
  {
   "cell_type": "markdown",
   "metadata": {
    "deletable": false,
    "editable": false,
    "nbgrader": {
     "checksum": "ab4f619a17e60791191227379d1bcd93",
     "grade": false,
     "grade_id": "cell-7aa25395a97e9afc",
     "locked": true,
     "schema_version": 1,
     "solution": false
    }
   },
   "source": [
    "# Task 1\n",
    "\n",
    "Write function`weighted_sum(weights, grades, normalize)`, which returns the weighted sum of grades from the array `grades` and their weights from `weights`. For example, for `weights = np.array([0.3, 0.3, 0.4])` and `grades = np.array([7, 9, 8])` function returns the number $0.3\\times 7+0.3\\times 9+0.4\\times 8=8.0$.\n",
    "\n",
    "If option `normalize` is set as `True`, and the sum of weights differs from 1, so, you need to normalize your weights to get their sum equals to 1 before weighting. Otherwise, do not weigh the weights (by default option `normalize` is set as `normalize = False`). Use `numpy` arrays and methods."
   ]
  },
  {
   "cell_type": "code",
   "execution_count": null,
   "metadata": {
    "deletable": false,
    "nbgrader": {
     "checksum": "3a8bea86bc0f4be3285eea80ba3103d2",
     "grade": false,
     "grade_id": "cell-d800dbacbbb06cc3",
     "locked": false,
     "schema_version": 1,
     "solution": true
    }
   },
   "outputs": [],
   "source": [
    "# YOUR CODE HERE"
   ]
  },
  {
   "cell_type": "code",
   "execution_count": null,
   "metadata": {
    "deletable": false,
    "editable": false,
    "nbgrader": {
     "checksum": "0daae074411eff0e33a9443ffe4d9262",
     "grade": true,
     "grade_id": "cell-d800dbacbbb06cc4",
     "locked": true,
     "points": 1,
     "schema_version": 1,
     "solution": false
    }
   },
   "outputs": [],
   "source": [
    "from timeit import timeit\n",
    "import numpy as np\n",
    "\n",
    "def test(w, g, out, normalize = False):\n",
    "    q = weighted_sum(np.array(w), np.array(g), normalize)\n",
    "    assert np.isclose(q, out)\n",
    "\n",
    "test([0.3, 0.3, 0.4], [7, 9, 8], 8)\n",
    "test([0.1, 0.2, 0.3, 0.4], [1, 5, 3, 2], 2.8)\n",
    "test([1, 2, 3, 4], [1, 5, 3, 2], 28)\n",
    "test([1, 2, 3, 4], [1, 5, 3, 2], 2.8, normalize=True)\n",
    "\n",
    "N = 1000000\n",
    "\n",
    "test([1, 2, 3, 4], [1, 5, 3, 2], 28)\n",
    "\n",
    "benchmark = timeit(\"sum([x/x for x in np.array([1]*N)])\", \"from __main__ import N, np\", number=1)\n",
    "otherbenchmark = timeit(\"weighted_sum(np.array([1.1]*N), np.array([1]*N), True)\", \n",
    "                        \"from __main__ import N, weighted_sum, np\", number=1)\n",
    "assert benchmark > otherbenchmark * 1.7, \"Toooo slow..\""
   ]
  },
  {
   "cell_type": "markdown",
   "metadata": {
    "deletable": false,
    "editable": false,
    "nbgrader": {
     "checksum": "0372725ea8717dde595f46736ca7a8d8",
     "grade": false,
     "grade_id": "cell-ff12d94ecb287944",
     "locked": true,
     "schema_version": 1,
     "solution": false
    }
   },
   "source": [
    "# Task 2\n",
    "Let `X` contains `np.array`, in rows - objects, in columns — features. Write the function `normalize(X)`, which normalize all features to obtain the mean equals to $0$ and standard deviation to $1$. In other words, for each column's element substract the mean value and divide the result on the column's standard deviation. \n",
    "\n",
    "If $X=(x_{ij})$ — given matrix, $x_{ij}$ — element in $i$-th row and $j$-th column, and $x_{\\cdot j}$ — $j$-th column; so, in new matrix in $i$-th row and $j$-th column should be the following element:\n",
    "\n",
    "$$\\widehat{x}_{ij}=\\frac{x_{ij}-\\overline{x_{\\cdot j}}}{\\sigma_{x_{\\cdot j}}},$$\n",
    "where $\\overline{x_{\\cdot j}}$ — sample mean of all elements of $j$-th column, $\\sigma_{x_{\\cdot j}}$ — their sample standard deviation.\n",
    "\n",
    "**Hint**: use methods `.mean()` and `.std()` with option `axis`. Do not use loops."
   ]
  },
  {
   "cell_type": "code",
   "execution_count": null,
   "metadata": {
    "deletable": false,
    "nbgrader": {
     "checksum": "60058941c39102cbc3e3b4094198cdf2",
     "grade": false,
     "grade_id": "cell-3cd90d8dc388c3e4",
     "locked": false,
     "schema_version": 1,
     "solution": true
    }
   },
   "outputs": [],
   "source": [
    "# YOUR CODE HERE"
   ]
  },
  {
   "cell_type": "code",
   "execution_count": null,
   "metadata": {
    "deletable": false,
    "editable": false,
    "nbgrader": {
     "checksum": "53d58343413254953109d416ce34d278",
     "grade": true,
     "grade_id": "cell-a1afc0910f3e1026",
     "locked": true,
     "points": 1,
     "schema_version": 1,
     "solution": false
    }
   },
   "outputs": [],
   "source": [
    "assert np.isclose(normalize(np.array([[ 1.00766597, -1.1201796 ,  2.47274732, -0.33619288,  1.50555214],\n",
    "       [ 1.48986823,  0.80894409,  0.55980545,  0.67813423, -0.3187493 ]])), np.array([[-1., -1.,  1., -1.,  1.],\n",
    "       [ 1.,  1., -1.,  1., -1.]])).all()\n",
    "assert np.isclose(normalize(np.array([[-0.98607026],\n",
    "       [ 1.93312384],\n",
    "       [-0.99905497],\n",
    "       [-0.95934573],\n",
    "       [ 0.05295053]])), np.array([[-0.69959273],\n",
    "       [ 1.87124093],\n",
    "       [-0.71102792],\n",
    "       [-0.67605736],\n",
    "       [ 0.21543708]])).all()\n",
    "assert np.isclose(normalize(np.array([[-1.63419424],\n",
    "       [ 0.39451389],\n",
    "       [-0.11346483],\n",
    "       [ 0.56117231],\n",
    "       [ 0.35460207],\n",
    "       [ 1.50836012],\n",
    "       [ 0.5176692 ],\n",
    "       [-1.20605276],\n",
    "       [ 0.7904588 ],\n",
    "       [ 1.28349441]])), np.array([[-1.9874883 ],\n",
    "       [ 0.15738144],\n",
    "       [-0.37968359],\n",
    "       [ 0.33358254],\n",
    "       [ 0.11518431],\n",
    "       [ 1.33500529],\n",
    "       [ 0.28758849],\n",
    "       [-1.53483191],\n",
    "       [ 0.57599773],\n",
    "       [ 1.09726401]])).all()\n",
    "assert np.isclose(normalize(np.array([[-1.31158329,  2.5954087 , -1.01662736, -0.27565263,  0.52639556,\n",
    "         0.58218805, -0.35961103,  0.31096071,  0.52193677, -0.41754881],\n",
    "       [-0.19218836, -0.03416295,  0.80408723, -1.18733572,  0.14422448,\n",
    "         0.6091103 ,  0.67617586,  0.17732224,  0.99660189, -0.07798097]])), np.array([[-1.,  1., -1.,  1.,  1., -1., -1.,  1., -1., -1.],\n",
    "       [ 1., -1.,  1., -1., -1.,  1.,  1., -1.,  1.,  1.]])).all()\n",
    "assert np.isclose(normalize(np.array([[-0.28368534, -0.90928588, -1.35180963],\n",
    "       [ 1.30199557,  1.32081835,  1.11951334]])), np.array([[-1., -1., -1.],\n",
    "       [ 1.,  1.,  1.]])).all()\n",
    "assert np.isclose(normalize(np.array([[-0.34089722,  0.93727935],\n",
    "       [ 0.14410815, -0.96321317],\n",
    "       [-1.98355493, -0.0310602 ]])), np.array([[ 0.42383229,  1.23244371],\n",
    "       [ 0.95653353, -1.21689804],\n",
    "       [-1.38036582, -0.01554567]])).all()\n",
    "assert np.isclose(normalize(np.array([[ 1.53033913,  0.05456373,  0.22504087, -1.16687133, -0.23619502],\n",
    "       [-0.81477156,  1.96405223, -1.5506048 , -2.08082958, -0.23459537],\n",
    "       [-0.80961303, -0.55950949, -1.07953561,  0.571387  , -1.03341414],\n",
    "       [ 0.10526012, -2.06172783, -1.1661957 , -1.00297227, -1.02432731],\n",
    "       [ 0.04661   , -0.21104596, -0.84339233,  0.22806353, -0.34655384]])), np.array([[ 1.77181211,  0.16828692,  1.84979571, -0.49193269,  0.90886342],\n",
    "       [-0.96400966,  1.64710001, -1.11468608, -1.43524085,  0.91315434],\n",
    "       [-0.95799169, -0.30728521, -0.32822509,  1.30214625, -1.22961355],\n",
    "       [ 0.10930543, -1.47068586, -0.47290614, -0.32277035, -1.20523884],\n",
    "       [ 0.04088381, -0.03741586,  0.0660216 ,  0.94779764,  0.61283463]])).all()"
   ]
  },
  {
   "cell_type": "markdown",
   "metadata": {
    "deletable": false,
    "editable": false,
    "nbgrader": {
     "checksum": "668b094896ee7acfa4eb9f3dcd0a7357",
     "grade": false,
     "grade_id": "cell-e1240f9d130f7dbc",
     "locked": true,
     "schema_version": 1,
     "solution": false
    }
   },
   "source": [
    "# Task 3\n",
    "Data frame `df` (pandas data frame) is a students' gradebook: in first two columns: `First Name` and `Last Name`, in the following columns — grades (integers from 0 to 5 including) for different courses. Write the function `get_grade(df, lastname, firstname, course)`, which returns the grade of particular student for the specific course. Assume that there is no students with both the same name and surname. Convert the result to integer number.\n",
    "\n",
    "**Example**:\n",
    "\n",
    "**Input** table:\n",
    "\n",
    "```\n",
    "  Last Name First Name  Algebra  Calculus  Music  Law\n",
    "0       Doe       John        4         5      3    5\n",
    "1     Smith      Alice        5         4      2    4\n",
    "```\n",
    "\n",
    "**Output**: from `get_grade(df, 'Doe', 'John', 'Algebra')` is `4`."
   ]
  },
  {
   "cell_type": "code",
   "execution_count": null,
   "metadata": {
    "deletable": false,
    "nbgrader": {
     "checksum": "04c3f99a80792ae0414af16c4f9bb3eb",
     "grade": false,
     "grade_id": "cell-afc3dfdd53b92eec",
     "locked": false,
     "schema_version": 1,
     "solution": true
    }
   },
   "outputs": [],
   "source": [
    "# YOUR CODE HERE"
   ]
  },
  {
   "cell_type": "code",
   "execution_count": null,
   "metadata": {
    "deletable": false,
    "editable": false,
    "nbgrader": {
     "checksum": "561c0929defb366ff9974898f72c5b89",
     "grade": true,
     "grade_id": "cell-5d1c63d6042a9030",
     "locked": true,
     "points": 1,
     "schema_version": 1,
     "solution": false
    }
   },
   "outputs": [],
   "source": [
    "def test(table, columns):\n",
    "    df = pd.DataFrame(table, columns=columns)\n",
    "    for row in table:\n",
    "        firstname = row[columns.index('First Name')]\n",
    "        lastname = row[columns.index('Last Name')]\n",
    "        for j, course in enumerate(columns[2:], 2):\n",
    "            assert get_grade(df, lastname, firstname, course) == row[j]\n",
    "\n",
    "test(\n",
    "    [\n",
    "        ['Doe', 'John', 1, 2, 3, 4], \n",
    "        ['Smith', 'Alice', 5, 4, 2, 4]\n",
    "    ], \n",
    "    columns=['Last Name', 'First Name', 'Algebra', 'Calculus', 'Music', 'Law']\n",
    ")\n",
    "\n",
    "test(\n",
    "    [\n",
    "        ['John', 'Doe', 1, 2, 3, 4], \n",
    "        ['Max', 'Katz', 5, 4, 2, 4]\n",
    "    ], \n",
    "    columns=['First Name', 'Last Name', 'Algebra', 'Calculus', 'Music', 'Law']\n",
    ")\n",
    "\n",
    "test(\n",
    "    [\n",
    "        ['John', 'Doe', 1, 2, 3, 4, 3, 2], \n",
    "        ['Jennifer', 'Lopez', 5, 4, 2, 4, 1, 1],\n",
    "        ['John', 'Smith', 2, 1, 4, 3, 3, 2]\n",
    "    ],\n",
    "    columns=['First Name', 'Last Name', 'Algebra', 'Calculus', 'Music', 'Law', 'CS', 'Physics']\n",
    ")\n",
    "\n",
    "test(\n",
    "    [\n",
    "        ['John', 'Doe', 1, 2, 3, 4, 3, 2], \n",
    "        ['Jack', 'Doe', 5, 4, 2, 4, 1, 1],\n",
    "        ['John', 'Smith', 2, 1, 4, 3, 3, 2]\n",
    "    ],\n",
    "    columns=['First Name', 'Last Name', 'Algebra', 'Calculus', 'Music', 'Law', 'CS', 'Physics']\n",
    ")"
   ]
  },
  {
   "cell_type": "markdown",
   "metadata": {
    "deletable": false,
    "editable": false,
    "nbgrader": {
     "checksum": "a60abada9a52826f7021519b0e4305c8",
     "grade": false,
     "grade_id": "cell-b6778b7545475b76",
     "locked": true,
     "schema_version": 1,
     "solution": false
    }
   },
   "source": [
    "# Task 4\n",
    "\n",
    "Let `df` is pandas data frame. Write the function `get_rows_after_5(df, n)`, which returns data frame, where `n` rows are written beginning with the 5-th row including. For instance, `get_row_after_5(df, 1)` should return only the 5-th row; and `get_row_after_5(df, 2)` — 5-th and 6-th."
   ]
  },
  {
   "cell_type": "code",
   "execution_count": null,
   "metadata": {
    "deletable": false,
    "nbgrader": {
     "checksum": "ea6fc57fb61cdd35c0d0706cd7fc396a",
     "grade": false,
     "grade_id": "cell-12d042102529eaed",
     "locked": false,
     "schema_version": 1,
     "solution": true
    }
   },
   "outputs": [],
   "source": [
    "# YOUR CODE HERE"
   ]
  },
  {
   "cell_type": "code",
   "execution_count": null,
   "metadata": {
    "deletable": false,
    "editable": false,
    "nbgrader": {
     "checksum": "40808ffca432267c0eec7bf6f541e007",
     "grade": true,
     "grade_id": "cell-23e9f8e0023248af",
     "locked": true,
     "points": 1,
     "schema_version": 1,
     "solution": false
    }
   },
   "outputs": [],
   "source": [
    "import pandas as pd\n",
    "df = pd.DataFrame([[1, 2, 3], \n",
    "                   [4, 5, 6], \n",
    "                   [7, 8, 9], \n",
    "                   [10, 11, 12], \n",
    "                   [13, 14, 15], \n",
    "                   [16, 17, 18], \n",
    "                   [19, 20, 21]])\n",
    "\n",
    "assert get_rows_after_5(df, 1).equals(pd.DataFrame([[13, 14, 15]], index=[4]))\n",
    "assert get_rows_after_5(df, 2).equals(pd.DataFrame([[13, 14, 15], [16, 17, 18]], index=[4, 5]))\n",
    "assert get_rows_after_5(df, 3).equals(pd.DataFrame([[13, 14, 15], [16, 17, 18], [19, 20, 21]], index=[4, 5, 6]))\n",
    "\n",
    "\n",
    "df.index = list(range(6, -1, -1))\n",
    "assert get_rows_after_5(df, 1).equals(pd.DataFrame([[13, 14, 15]], index=[2]))\n",
    "\n",
    "df.index = list('abcdefg')\n",
    "df.sort_values(0, ascending=False, inplace=True)\n",
    "\n",
    "assert get_rows_after_5(df, 1).equals(pd.DataFrame([[7, 8, 9]], index=['c']))\n",
    "assert get_rows_after_5(df, 2).equals(pd.DataFrame([[7, 8, 9], [4, 5, 6]], index=['c', 'b']))\n",
    "\n",
    "df['hello'] = list('qwertyu')\n",
    "\n",
    "get_rows_after_5(df, 2)\n",
    "\n",
    "assert get_rows_after_5(df, 2).equals(pd.DataFrame([[7, 8, 9, 't'], [4, 5, 6, 'y']], columns = [0, 1, 2, 'hello'], index=['c', 'b']))"
   ]
  },
  {
   "cell_type": "markdown",
   "metadata": {
    "deletable": false,
    "editable": false,
    "nbgrader": {
     "checksum": "7a0df2596de043874b3768cd6fe118f1",
     "grade": false,
     "grade_id": "cell-7d4ec3251c7cce53",
     "locked": true,
     "schema_version": 1,
     "solution": false
    }
   },
   "source": [
    "# Task 5\n",
    "\n",
    "In pandas data frame `grades` the table with grades is located (each row — the student, each column — the particular activity), names of students are written inside `index`. In series-object `weights`, the weights are located (the sum of the weights equals to 1). Write the function `weight_grades(grades, weights)`, which returns the series-object, where student name (on the same places in `index`) and final grade are given. **Hint**: use `.dot()` method."
   ]
  },
  {
   "cell_type": "code",
   "execution_count": null,
   "metadata": {
    "deletable": false,
    "nbgrader": {
     "checksum": "9573dacf73be25e28dce5e14baba25bd",
     "grade": false,
     "grade_id": "cell-dd2f08f434b73cd2",
     "locked": false,
     "schema_version": 1,
     "solution": true
    }
   },
   "outputs": [],
   "source": [
    "# YOUR CODE HERE"
   ]
  },
  {
   "cell_type": "code",
   "execution_count": null,
   "metadata": {
    "deletable": false,
    "editable": false,
    "nbgrader": {
     "checksum": "8cb72a2c6b9d6dd7e67b61e6590771b9",
     "grade": true,
     "grade_id": "cell-840378c6ce4a07b8",
     "locked": true,
     "points": 1,
     "schema_version": 1,
     "solution": false
    }
   },
   "outputs": [],
   "source": [
    "grades = pd.DataFrame(dict(hw1=[3, 2, 2], hw2=[2, 3, 4]), index=['Alice', \n",
    "                                                             'Claudia', \n",
    "                                                             'Bob'])\n",
    "weights = pd.Series([0.75, 0.25], index=['hw2', 'hw1'])\n",
    "assert (weight_grades(grades, weights) == pd.Series([2.25, 2.75, 3.5],\n",
    "                                                   index = ['Alice', \n",
    "                                                            'Claudia', \n",
    "                                                            'Bob'])).all()\n",
    "\n",
    "grades = pd.DataFrame(dict(hw1=[3, 2], hw2=[2, 3], hw3=[0, 1]),\n",
    "                      index=['Alice', 'Claudia'])\n",
    "weights = pd.Series(dict(hw1=0.25, hw2=0.5, hw3=0.25))\n",
    "assert weight_grades(grades, weights).to_dict() == {'Alice': 1.75, \n",
    "                                                    'Claudia': 2.25}"
   ]
  },
  {
   "cell_type": "markdown",
   "metadata": {
    "deletable": false,
    "editable": false,
    "nbgrader": {
     "checksum": "9fa4ca16443163d8b0e19dad33800c42",
     "grade": false,
     "grade_id": "cell-99a83d95cdc05847",
     "locked": true,
     "schema_version": 1,
     "solution": false
    }
   },
   "source": [
    "# Task 6\n",
    "Write `mean_by_gender(grades, genders)` function, that takes two arrays (of the same length) as inputs: `grades` contains grades of students, `genders` contains their gender (`male` or `female`). Output: dictionary with `male` and `female` keys; the dictionary's values are the average grade.\n",
    "\n",
    "For example, for `grades = np.array([5, 4, 3, 5, 2])` and `genders = np.array([\"female\", \"male\", \"male\", \"female\", \"male\"])`, the output is `{'male': 3.0, 'female': 5.0}`.\n",
    "\n",
    "**Hint.** use `mean` from `numpy`."
   ]
  },
  {
   "cell_type": "code",
   "execution_count": null,
   "metadata": {
    "deletable": false,
    "nbgrader": {
     "checksum": "f8389c6d2ccbb9e608f842fd2b3b014e",
     "grade": false,
     "grade_id": "cell-0d9d3c8736a685a1",
     "locked": false,
     "schema_version": 1,
     "solution": true
    }
   },
   "outputs": [],
   "source": [
    "# YOUR CODE HERE"
   ]
  },
  {
   "cell_type": "code",
   "execution_count": null,
   "metadata": {
    "deletable": false,
    "editable": false,
    "nbgrader": {
     "checksum": "58b235be6ad4e3d9f5b43d90bbde6a5a",
     "grade": true,
     "grade_id": "cell-24e9ec8f519f715a",
     "locked": true,
     "points": 1,
     "schema_version": 1,
     "solution": false
    }
   },
   "outputs": [],
   "source": [
    "from timeit import timeit\n",
    "import numpy as np\n",
    "\n",
    "def test(grades, genders, outp):\n",
    "    ret = mean_by_gender(np.array(grades), np.array(genders))\n",
    "    assert np.isclose(ret['female'], outp['female'])\n",
    "    assert np.isclose(ret['male'], outp['male'])\n",
    "\n",
    "test([5, 4, 3, 5, 2], [\"female\", \"male\", \"male\", \"female\", \"male\"], {'male': 3.0, 'female': 5.0})\n",
    "test([1, 0]*10, ['female', 'male']*10, {'female': 1, 'male': 0})\n",
    "test(range(100), ['female', 'male']* 50, {'female': 49.0, 'male': 50.0})\n",
    "test(list(range(100))+[100], ['male']*100+['female'], {'male':49.5, 'female': 100.0})\n",
    "\n",
    "def benchmark_test(a, b):\n",
    "    xx = 0\n",
    "    yy = 0\n",
    "    im = 0\n",
    "    fi = 0\n",
    "    for x, y in zip(a, b):\n",
    "        if x != y:\n",
    "            xx += x\n",
    "            yy += x\n",
    "            im += 1\n",
    "            fi += 1\n",
    "    \n",
    "    return xx+yy\n",
    "\n",
    "N = int(1E5)\n",
    "grades = np.array([1.1]*N + [2.2]*N)\n",
    "genders = np.array(['male']*N + ['female']*N)\n",
    "\n",
    "benchmark = timeit(\"assert np.isclose(mean_by_gender(grades, genders)['male'], 1.1)\",\n",
    "                   \"from __main__ import np, mean_by_gender, grades, genders\",\n",
    "                   number=1)\n",
    "reference_benchmark = timeit(\"benchmark_test(grades, genders)\",\n",
    "                             \"from __main__ import benchmark_test, grades, genders\",\n",
    "                             number=1)\n",
    "\n",
    "assert reference_benchmark > benchmark * 10, \"too slow\""
   ]
  },
  {
   "cell_type": "markdown",
   "metadata": {
    "deletable": false,
    "editable": false,
    "nbgrader": {
     "checksum": "4af516fda90c0486a65e7b3477744014",
     "grade": false,
     "grade_id": "cell-e78c19f9e348e42b",
     "locked": true,
     "schema_version": 1,
     "solution": false
    }
   },
   "source": [
    "# Task 7 (2 pt)\n",
    "\n",
    "Pandas data frame `df` is a gradebook. Write the function `gpa_top(df)`, which modify `df` in the following way:\n",
    "\n",
    "- Add column called `'GPA'`, fill it with average grade. If in particular cell `NaN` (no information) is stated (student has no such course in his/her curriculum), then average is calculated among not `NaN` values.\n",
    "- Sort `df` descending by `GPA`.\n",
    "- Return such rows of `df`, where `GPA` is not less than `4`.\n",
    "\n",
    "**Hints**: Use `.sort_values()` method; `.mean()` method ignors `NaN`'s by default.\n",
    "\n",
    "**Example**:\n",
    "```python\n",
    "# Input df:\n",
    "pd.DataFrame([['Doe', 'John', 4, 5, 3.0, 5], \n",
    "              ['Smith', 'Alice', 5, 4, float(\"nan\"), 4]], \n",
    "             columns=['Last Name', 'First Name', \n",
    "                      'Algebra', 'Calculus', 'Music', 'Law'], index=[0, 1])\n",
    "\n",
    "# Output df:\n",
    "pd.DataFrame([['Smith', 'Alice', 5, 4, float(\"nan\"), 4, 4.333333333333333], \n",
    "              ['Doe', 'John', 4, 5, 3.0, 5, 4.25]], \n",
    "             columns=['Last Name', 'First Name', 'Algebra', \n",
    "                      'Calculus', 'Music', 'Law', 'GPA'], index=[1, 0])\n",
    "```"
   ]
  },
  {
   "cell_type": "code",
   "execution_count": null,
   "metadata": {
    "deletable": false,
    "nbgrader": {
     "checksum": "0d8e6fa3166c7f5b5b90950a78080efc",
     "grade": false,
     "grade_id": "cell-5afabda3e6503e78",
     "locked": false,
     "schema_version": 1,
     "solution": true
    }
   },
   "outputs": [],
   "source": [
    "# YOUR CODE HERE"
   ]
  },
  {
   "cell_type": "code",
   "execution_count": null,
   "metadata": {
    "deletable": false,
    "editable": false,
    "nbgrader": {
     "checksum": "a8b340dee59e5227dd9dc6a159ac3d58",
     "grade": true,
     "grade_id": "cell-30809c9a16f43713",
     "locked": true,
     "points": 2,
     "schema_version": 1,
     "solution": false
    }
   },
   "outputs": [],
   "source": [
    "import pandas as pd\n",
    "def pd_repr(df):\n",
    "    content = repr(df.values.tolist()).replace('nan', 'float(\"nan\")')\n",
    "    columns = repr(df.columns.tolist())\n",
    "    index = repr(df.index.tolist())\n",
    "    return \"pd.DataFrame(%s, columns=%s, index=%s)\" % (content, columns, index)\n",
    "\n",
    "def test(table, columns, newtable, newindex):\n",
    "    inp = pd.DataFrame(table, columns=columns)\n",
    "    expected = pd.DataFrame(newtable, columns = columns + ['GPA'], index=newindex)\n",
    "    out = gpa_top(inp)\n",
    "    if len(out) == 0 and len(expected) == 0:\n",
    "        return\n",
    "    assert out.equals(expected), \"Что-то пошло не так для входного датафрейма %s\" % pd_repr(inp)\n",
    "\n",
    "test([['Doe', 'John', 4, 5, 3.0, 5]], ['Last Name', 'First Name', 'Algebra', 'Calculus', 'Music', 'Law'], [['Doe', 'John', 4, 5, 3.0, 5, 4.25]], [0])\n",
    "test([['Doe', 'John', 4, 5, 3.0, 5], ['Smith', 'Alice', 5, 4, float('nan'), 4]], ['Last Name', 'First Name', 'Algebra', 'Calculus', 'Music', 'Law'], [['Smith', 'Alice', 5, 4, float('nan'), 4, 4.333333333333333], ['Doe', 'John', 4, 5, 3.0, 5, 4.25]], [1, 0])\n",
    "test([['Doe', 'John', 1, 5, 3.0, 5], ['Smith', 'Alice', 5, 4, float('nan'), 4]], ['Last Name', 'First Name', 'Algebra', 'Calculus', 'Music', 'Law'], [['Smith', 'Alice', 5, 4, float('nan'), 4, 4.333333333333333]], [1])\n",
    "test([['Doe', 'John', 4, float('nan'), 3.0, float('nan')], ['Smith', 'Alice', 2, 4, float('nan'), 4]], ['Last Name', 'First Name', 'Algebra', 'Calculus', 'Music', 'Law'], [], [])\n",
    "test([['Doe', 'John', 4, float('nan'), 5.0, float('nan')], ['Smith', 'Alice', 5, 5, float('nan'), 4]], ['Last Name', 'First Name', 'Algebra', 'Calculus', 'Music', 'Law'], [['Smith', 'Alice', 5, 5.0, float('nan'), 4.0, 4.666666666666667], ['Doe', 'John', 4, float('nan'), 5.0, float('nan'), 4.5]], [1, 0])\n",
    "test([['Doe', 'John', 4, float('nan'), 5.0, float('nan'), 4, 5], ['Smith', 'Alice', 5, 5, float('nan'), 4, 4, float('nan')]], ['Last Name', 'First Name', 'Algebra', 'Calculus', 'Music', 'Law', 'Science', 'English'], [['Doe', 'John', 4, float('nan'), 5.0, float('nan'), 4, 5.0, 4.5], ['Smith', 'Alice', 5, 5.0, float('nan'), 4.0, 4, float('nan'), 4.5]], [0, 1])\n",
    "test([['Doe', 'John', 4, float('nan'), 5.0, float('nan'), 4, 5], ['Smith', 'Alice', 5, 5, float('nan'), 4, 5, float('nan')], ['Doe', 'Alice', 4, float('nan'), 5.0, float('nan'), 4, 5], ['Smith', 'John', 5, 5, float('nan'), 3, 4, float('nan')], ['Doe', 'John', 4, float('nan'), 5.0, 2, 4, 5], ['Smith', 'Alice', 2, 2, float('nan'), 4, 4, float('nan')]], ['Last Name', 'First Name', 'Algebra', 'Calculus', 'Music', 'Law', 'Science', 'English'], [['Smith', 'Alice', 5, 5.0, float('nan'), 4.0, 5, float('nan'), 4.75], ['Doe', 'John', 4, float('nan'), 5.0, float('nan'), 4, 5.0, 4.5], ['Doe', 'Alice', 4, float('nan'), 5.0, float('nan'), 4, 5.0, 4.5], ['Smith', 'John', 5, 5.0, float('nan'), 3.0, 4, float('nan'), 4.25], ['Doe', 'John', 4, float('nan'), 5.0, 2.0, 4, 5.0, 4.0]], [1, 0, 2, 3, 4])"
   ]
  },
  {
   "cell_type": "markdown",
   "metadata": {
    "deletable": false,
    "editable": false,
    "nbgrader": {
     "checksum": "8d747ee6711c0188cf4e1ce16ea0dcc8",
     "grade": false,
     "grade_id": "cell-ae531d56adfb0eec",
     "locked": true,
     "schema_version": 1,
     "solution": false
    }
   },
   "source": [
    "# Task 8 (2 pt)\n",
    "Write the function to detect the winner of votes `winner_votes(df)`, which get as an input pandas `df` and returns as a result `tuple` (list in `()` instead of `[]`) like `('winner name', votes)`. The voting is by majority for the `state` (if equal votes assume the alphabetical order prevails).\n",
    "\n",
    "Example:\n",
    "\n",
    "Input:\n",
    "```\n",
    "          state  electors  Arya Stark  Tyrion Lannister  Deineris Targarien\n",
    "0    Winterfell         3         0.6               0.3                 0.1\n",
    "1      Riverrun         5         0.3               0.2                 0.5\n",
    "2  Vaes Dothrak         2         0.2               0.3                 0.5\n",
    "```\n",
    "Output:\n",
    "```\n",
    "(\"Deineris Targarien\", 7)\n",
    "```\n",
    "\n",
    "**Hint**: `.idxmax()`, `.sort_index()`, `.groupby()` could be useful."
   ]
  },
  {
   "cell_type": "code",
   "execution_count": null,
   "metadata": {
    "deletable": false,
    "nbgrader": {
     "checksum": "97dbd4d66c635bf35a7b4e71028863b9",
     "grade": false,
     "grade_id": "cell-c74a466455f6fc2d",
     "locked": false,
     "schema_version": 1,
     "solution": true
    }
   },
   "outputs": [],
   "source": [
    "# YOUR CODE HERE"
   ]
  },
  {
   "cell_type": "code",
   "execution_count": null,
   "metadata": {
    "deletable": false,
    "editable": false,
    "nbgrader": {
     "checksum": "d0770e992b0f946c1b73010117a3afb4",
     "grade": true,
     "grade_id": "cell-075f808eabcc1834",
     "locked": true,
     "points": 2,
     "schema_version": 1,
     "solution": false
    }
   },
   "outputs": [],
   "source": [
    "import random\n",
    "import numpy as np\n",
    "\n",
    "df = pd.DataFrame([['Winterfell', 3, 0.6, 0.3, 0.1],\n",
    " ['Riverrun', 5, 0.3, 0.2, 0.5],\n",
    " ['Vaes Dothrak', 2, 0.2, 0.3, 0.5]], columns=['state', 'electors', \n",
    "                                               'Arya Stark', \n",
    "                                               'Tyrion Lannister', \n",
    "                                               'Deineris Targarien'])\n",
    "\n",
    "\n",
    "assert winner_votes(df) == (\"Deineris Targarien\", 7)\n",
    "\n",
    "def mktable(seed):\n",
    "    states = ['Florida', 'Connecticut', 'Georgia', 'Texas', 'Vermont', \n",
    "              'New Mexico', 'Illinois', 'Kentucky', 'Iowa', 'Alaska', \n",
    "              'New York', 'Massachusetts', 'Arkansas', 'Missouri', 'Kansas', \n",
    "              'Idaho', 'Wisconsin', 'Mississippi', 'Washington', 'Oklahoma', \n",
    "              'California', 'South Carolina', 'Hawaii', 'Maryland', 'Arizona', \n",
    "              'Montana', 'Ohio', 'Oregon', 'Rhode Island', 'South Dakota', \n",
    "              'Alabama', 'North Dakota', 'Virginia', 'New Jersey', 'Wyoming', \n",
    "              'Maine', 'D.C.', 'Tennessee', 'Pennsylvania', 'Nebraska', \n",
    "              'Delaware', 'Michigan', 'New Hampshire', 'Indiana', \n",
    "              'North Carolina', 'Colorado', 'West Virginia', 'Utah', \n",
    "              'Minnesota', 'Louisiana', 'Nevada']\n",
    "    candidates = ['Clinton', 'Trump', 'Johnson', 'Stein', 'Castle', \n",
    "                  'McMullin']\n",
    "    random.seed(seed)\n",
    "    np.random.seed(seed)\n",
    "    states_ = random.sample(states, random.randrange(1, len(states)))\n",
    "    candidates_ = random.sample(candidates, \n",
    "                                random.randrange(1, len(candidates)))\n",
    "    results = np.random.uniform(size=(len(candidates_), len(states_)))\n",
    "    results = (results / results.sum(axis=0)).T\n",
    "    electors = np.random.randint(1, 20, size=len(states_))\n",
    "    return pd.concat([pd.Series(states_, name='state'),\n",
    "                      pd.Series(electors, name='electors'), \n",
    "                      pd.DataFrame(results,\n",
    "                                   columns=candidates_)], axis=1)\n",
    "\n",
    "for i, result in enumerate([('Stein', 107), ('Clinton', 48), ('Castle', 18), \n",
    "                            ('Trump', 63), ('Johnson', 88), ('Johnson', 196), \n",
    "                            ('Johnson', 88), ('McMullin', 62), ('Trump', 51), \n",
    "                            ('Johnson', 295), ('Johnson', 79), ('Stein', 84), \n",
    "                            ('Clinton', 285), ('Trump', 84), ('Stein', 55), \n",
    "                            ('McMullin', 59), ('Clinton', 110), \n",
    "                            ('McMullin', 162), ('Johnson', 45), \n",
    "                            ('Clinton', 165), ('Castle', 156), \n",
    "                            ('Johnson', 47), ('Trump', 83), ('Trump', 287), \n",
    "                            ('Stein', 268), ('Castle', 275), ('Clinton', 235), \n",
    "                            ('Trump', 434), ('Stein', 24), ('Castle', 135), \n",
    "                            ('Trump', 99), ('Stein', 17), ('Clinton', 23), \n",
    "                            ('Clinton', 133), ('Trump', 159), ('Trump', 88), \n",
    "                            ('McMullin', 77), ('Johnson', 436), \n",
    "                            ('Stein', 211), ('Johnson', 158), ('Trump', 114), \n",
    "                            ('Castle', 259), ('Johnson', 431), \n",
    "                            ('Johnson', 19), ('Castle', 304), ('Trump', 118), \n",
    "                            ('Castle', 18), ('McMullin', 141), \n",
    "                            ('Clinton', 197), ('McMullin', 14), \n",
    "                            ('Trump', 259), ('Castle', 87), ('Trump', 171), \n",
    "                            ('Castle', 120), ('Johnson', 48), ('Stein', 54), \n",
    "                            ('Trump', 382), ('Trump', 30), ('Trump', 134), \n",
    "                            ('McMullin', 77), ('Trump', 72), ('Stein', 114), \n",
    "                            ('Clinton', 152), ('McMullin', 105), \n",
    "                            ('Clinton', 279), ('Trump', 241), ('Castle', 23), \n",
    "                            ('McMullin', 27), ('Stein', 148), ('Trump', 420), \n",
    "                            ('Castle', 42), ('Clinton', 114), ('Stein', 23), \n",
    "                            ('Castle', 68), ('Clinton', 328), \n",
    "                            ('Johnson', 149), ('Trump', 97), ('Trump', 91), \n",
    "                            ('Trump', 51), ('McMullin', 45), ('Johnson', 56), \n",
    "                            ('McMullin', 167), ('Stein', 57), ('Castle', 111), \n",
    "                            ('Stein', 477), ('McMullin', 82), \n",
    "                            ('Clinton', 173), ('Clinton', 77), ('Trump', 273), \n",
    "                            ('Trump', 43), ('Trump', 68), ('Stein', 34), \n",
    "                            ('McMullin', 185), ('Clinton', 293), \n",
    "                            ('Johnson', 138), ('Stein', 261), \n",
    "                            ('Johnson', 131), ('Johnson', 58), \n",
    "                            ('Trump', 85), ('McMullin', 283)]):\n",
    "    assert winner_votes(mktable(i)) == result, \"Something wrong \"\\\n",
    "                                               \"with table\\n\" + \\\n",
    "                                            str(mktable(i)) + \"\\nExpected \" +\\\n",
    "                                            str(result) + \"\\nObtained: \" + \\\n",
    "                                            str(winner_votes(mktable(i)))"
   ]
  }
 ],
 "metadata": {
  "kernelspec": {
   "display_name": "Python 3",
   "language": "python",
   "name": "python3"
  },
  "language_info": {
   "codemirror_mode": {
    "name": "ipython",
    "version": 3
   },
   "file_extension": ".py",
   "mimetype": "text/x-python",
   "name": "python",
   "nbconvert_exporter": "python",
   "pygments_lexer": "ipython3",
   "version": "3.7.1"
  }
 },
 "nbformat": 4,
 "nbformat_minor": 2
}
